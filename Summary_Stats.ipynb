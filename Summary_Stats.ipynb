{
 "cells": [
  {
   "cell_type": "code",
   "execution_count": 5,
   "id": "238e72d4-0b10-45e7-a9e5-e4865b73284c",
   "metadata": {
    "tags": []
   },
   "outputs": [
    {
     "name": "stdout",
     "output_type": "stream",
     "text": [
      "Statistics for A:\n",
      "count       5\n",
      "unique      2\n",
      "top       foo\n",
      "freq        3\n",
      "Name: A, dtype: object\n",
      "\n",
      "Statistics for B:\n",
      "count       5\n",
      "unique      2\n",
      "top       two\n",
      "freq        3\n",
      "Name: B, dtype: object\n",
      "\n",
      "Statistics for C:\n",
      "count         5\n",
      "unique        2\n",
      "top       small\n",
      "freq          3\n",
      "Name: C, dtype: object\n",
      "\n",
      "Statistics for D:\n",
      "count        5\n",
      "unique       2\n",
      "top       high\n",
      "freq         3\n",
      "Name: D, dtype: object\n",
      "\n"
     ]
    }
   ],
   "source": [
    "import pandas as pd\n",
    "\n",
    "#Function prints summary statistics for all variables used in analysis\n",
    "def summary_stats(df, columns):\n",
    "    \"\"\"\n",
    "    Print the descriptive statistics for multiple columns in dataframe.\n",
    "\n",
    "    Parameters:\n",
    "    - df (pd.DataFrame): The DataFrame containing the data.\n",
    "    - columns (list): A list of column names for which to print the stats.\n",
    "\n",
    "    Returns:\n",
    "    - None\n",
    "    \"\"\"\n",
    "    for column in columns:\n",
    "        print(f\"Statistics for {column}:\")\n",
    "        print(df[column].describe())\n",
    "        print()  # Adds an empty line for better readability\n",
    "\n",
    "# Example Data\n",
    "data = {\n",
    "    'A': ['foo', 'bar', 'foo', 'bar', 'foo'],\n",
    "    'B': ['one', 'one', 'two', 'two', 'two'],\n",
    "    'C': ['small', 'large', 'small', 'small', 'large'],\n",
    "    'D': ['low', 'high', 'low', 'high', 'high'],\n",
    "    'E': ['yes', 'no', 'yes', 'yes', 'no']\n",
    "}\n",
    "df = pd.DataFrame(data)\n",
    "\n",
    "#example use\n",
    "summary_stats(df, ['A','B','C','D'])"
   ]
  },
  {
   "cell_type": "code",
   "execution_count": null,
   "id": "456f84df-954d-4327-a6a6-97e75a506e91",
   "metadata": {},
   "outputs": [],
   "source": []
  }
 ],
 "metadata": {
  "kernelspec": {
   "display_name": "Python 3 (ipykernel)",
   "language": "python",
   "name": "python3"
  },
  "language_info": {
   "codemirror_mode": {
    "name": "ipython",
    "version": 3
   },
   "file_extension": ".py",
   "mimetype": "text/x-python",
   "name": "python",
   "nbconvert_exporter": "python",
   "pygments_lexer": "ipython3",
   "version": "3.11.5"
  }
 },
 "nbformat": 4,
 "nbformat_minor": 5
}
